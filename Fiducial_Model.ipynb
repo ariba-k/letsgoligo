{
 "cells": [
  {
   "cell_type": "code",
   "execution_count": 17,
   "metadata": {
    "collapsed": true
   },
   "outputs": [],
   "source": [
    "import numpy as np\n",
    "import matplotlib as plt\n",
    "%matplotlib inline\n",
    "import random\n",
    "import math"
   ]
  },
  {
   "cell_type": "code",
   "execution_count": 18,
   "metadata": {
    "collapsed": true
   },
   "outputs": [],
   "source": [
    "#Hill_Radius\n",
    "def calcR(m,mstar,a):\n",
    "   one=((2*m)/(3*mstar))**(1/3.)\n",
    "   two=a*2\n",
    "   three=(1-one)*5\n",
    "   r=(one*two)/three\n",
    "   return r"
   ]
  },
  {
   "cell_type": "code",
   "execution_count": 25,
   "metadata": {
    "collapsed": true
   },
   "outputs": [],
   "source": [
    "#BlackHole_Info\n",
    "m = 40 ##mass of black hole\n",
    "mstar = 1E8 ##super massive black hole\n",
    "a = 500  ## distance between black hole and super massive black hole \n",
    "num = 10 #number of black holes"
   ]
  },
  {
   "cell_type": "code",
   "execution_count": 26,
   "metadata": {
    "collapsed": true
   },
   "outputs": [],
   "source": [
    "#Blackhole_Distance\n",
    "aValues = []\n",
    "aValues.append(a)\n",
    "\n",
    "count = 0\n",
    "while (count < num):\n",
    "   r = calcR(m,mstar,a) #distance of stellar mass bh from super mass bh l\n",
    "   aNext = a + 30*r\n",
    "   aValues.append(aNext)\n",
    "   a = aNext\n",
    "   count += 1\n",
    "\n",
    "aValues = np.array(aValues)"
   ]
  },
  {
   "cell_type": "code",
   "execution_count": 27,
   "metadata": {
    "collapsed": true
   },
   "outputs": [],
   "source": [
    "#Angle_Measures\n",
    "angle1 = []\n",
    "angle2 = []\n",
    "\n",
    "for i in range(25):\n",
    "    angle1.append(random.uniform(0, 360))\n",
    "    angle2.append(random.uniform(0, 360))\n",
    "\n",
    "angle1 = np.array(angle1)   \n",
    "angle2 = np.array(angle2)\n",
    "\n"
   ]
  },
  {
   "cell_type": "code",
   "execution_count": 28,
   "metadata": {
    "collapsed": true
   },
   "outputs": [],
   "source": [
    "#Inclination\n",
    "inclination = []\n",
    "\n",
    "inclination = abs(np.random.normal(0,0.05,25))"
   ]
  },
  {
   "cell_type": "code",
   "execution_count": 29,
   "metadata": {
    "collapsed": true
   },
   "outputs": [],
   "source": [
    "#Eccentricity \n",
    "eccentricity = []\n",
    "\n",
    "count4 = 0\n",
    "while (count4 < num):\n",
    "    ec = random.gauss(0.05, 0.02)\n",
    "    if (ec > 0):\n",
    "        eccentricity.append(ec)\n",
    "        count4 += 1\n",
    "\n",
    "eccentricity = np.array(eccentricity)\n",
    "\n"
   ]
  },
  {
   "cell_type": "code",
   "execution_count": 30,
   "metadata": {
    "collapsed": true
   },
   "outputs": [],
   "source": [
    "#Write_File\n",
    "f = open(\"../../bh_nbody/files/elements2.dat\",\"w\")\n",
    "for i in range(num):\n",
    "    f.write(str(m)+ \" \"+ str(aValues[i])+ \" \" + str(eccentricity[i])+ \" \" + str(inclination[i])+ \" \" + str(angle1[i])+ \" \" + str(angle2[i])+ \" \" + \" 0 \" + \"\\n\")\n",
    "                \n",
    "f.close()"
   ]
  },
  {
   "cell_type": "markdown",
   "metadata": {},
   "source": [
    "file = open(\"elements2.dat\",\"w\")\n",
    "for i in range(25):\n",
    "    file.write(str(m)+ \" \")\n",
    "    file.write(str(aValues[i])+ \" \")\n",
    "    file.write(str(eccentricity[i])+ \" \")\n",
    "    file.write(str(inclination[i])+ \" \")\n",
    "    file.write(str(angle1[i])+ \" \")\n",
    "    file.write(str(angle2[i])+ \" \")\n",
    "    file.write(\" 0 \")\n",
    "    file.write(\"\\n\")\n",
    "file.close()"
   ]
  }
 ],
 "metadata": {
  "kernelspec": {
   "display_name": "Python 2",
   "language": "python",
   "name": "python2"
  },
  "language_info": {
   "codemirror_mode": {
    "name": "ipython",
    "version": 2
   },
   "file_extension": ".py",
   "mimetype": "text/x-python",
   "name": "python",
   "nbconvert_exporter": "python",
   "pygments_lexer": "ipython2",
   "version": "2.7.13"
  }
 },
 "nbformat": 4,
 "nbformat_minor": 2
}
