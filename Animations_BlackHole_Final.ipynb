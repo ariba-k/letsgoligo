{
 "cells": [
  {
   "cell_type": "code",
   "execution_count": 1,
   "metadata": {},
   "outputs": [],
   "source": [
    "import numpy as np\n",
    "import matplotlib.pyplot as plt\n",
    "from pylab import *\n",
    "from struct import unpack\n",
    "import matplotlib.animation as animation \n",
    "%matplotlib inline"
   ]
  },
  {
   "cell_type": "code",
   "execution_count": 2,
   "metadata": {},
   "outputs": [],
   "source": [
    "bod_num=[]\n",
    "mass=[]\n",
    "time=[]\n",
    "ax=[]\n",
    "ex=[]\n",
    "inc=[]\n",
    "x=[]\n",
    "y=[]\n",
    "z=[]\n",
    "\n",
    "f = open(\"/Users/aribakhan/Documents/BH_nbody/OutputData/May22/bout.bin\", \"rb\")\n",
    "num=17 #number of columns\n",
    "vals=[1,2,3,4,5]\n",
    "while len(vals)>0:\n",
    "    vals = f.read(4*num)\n",
    "    if len(vals)>0:\n",
    "        bod_num.append(unpack('f'*num,vals)[1])\n",
    "        mass.append(unpack('f'*num,vals)[2])\n",
    "        time.append(unpack('f'*num,vals)[3])\n",
    "        ax.append(unpack('f'*num,vals)[4])\n",
    "        ex.append(unpack('f'*num,vals)[5])\n",
    "        inc.append(unpack('f'*num,vals)[6])\n",
    "        x.append(unpack('f'*num,vals)[10])\n",
    "        y.append(unpack('f'*num,vals)[11])\n",
    "        z.append(unpack('f'*num,vals)[12])\n",
    "\n",
    "\n",
    "x=np.array(x)\n",
    "y=np.array(y)\n",
    "z=np.array(z)\n",
    "bod_num=np.array(bod_num)\n",
    "mass=np.array(mass)\n",
    "time=np.array(time)\n",
    "r=np.sqrt(x**2+y**2+z**2)\n",
    "\n",
    "f.close()"
   ]
  },
  {
   "cell_type": "code",
   "execution_count": 3,
   "metadata": {},
   "outputs": [],
   "source": [
    "TimeSkip = 100\n",
    "obj0 = obj= bod_num==0\n",
    "data0 = np.array([x[obj0][::TimeSkip],y[obj0][::TimeSkip]])\n",
    "\n",
    "obj1 = obj= bod_num==1\n",
    "data1 = np.array([x[obj1][::TimeSkip],y[obj1][::TimeSkip]])\n",
    "\n",
    "obj2 = obj= bod_num==2\n",
    "data2 = np.array([x[obj2][::TimeSkip],y[obj2][::TimeSkip]])\n",
    "\n",
    "obj3 = obj= bod_num==3\n",
    "data3 = np.array([x[obj3][::TimeSkip],y[obj3][::TimeSkip]])\n",
    "\n",
    "obj4 = obj= bod_num==4\n",
    "data4 = np.array([x[obj4][::TimeSkip],y[obj4][::TimeSkip]])\n",
    "\n",
    "obj5 = obj= bod_num==5\n",
    "data5 = np.array([x[obj5][::TimeSkip],y[obj5][::TimeSkip]])\n",
    "\n",
    "obj6 = obj= bod_num==6\n",
    "data6 = np.array([x[obj6][::TimeSkip],y[obj6][::TimeSkip]])\n",
    "\n",
    "obj7 = obj= bod_num==7\n",
    "data7 = np.array([x[obj7][::TimeSkip],y[obj7][::TimeSkip]])\n",
    "\n",
    "obj8 = obj= bod_num==8\n",
    "data8 = np.array([x[obj8][::TimeSkip],y[obj8][::TimeSkip]])\n",
    "\n",
    "obj9 = obj= bod_num==9\n",
    "data9 = np.array([x[obj9][::TimeSkip],y[obj9][::TimeSkip]])\n"
   ]
  },
  {
   "cell_type": "code",
   "execution_count": 4,
   "metadata": {},
   "outputs": [],
   "source": [
    "def update_line(num, data0,data1,data2,data3,data4,data5,data6,data7,data8,data9,line0,line1,line2,line3,line4,\n",
    "                line5,line6,line7,line8,line9,):\n",
    "    '''num - the point in the array where you want to stop plotting (how many timesteps!)\n",
    "       data - the data you want to plot [x,y]\n",
    "       line - the formatting you want for the plot'''  \n",
    "    if (num<len(data0[0])):\n",
    "        line0.set_data(data0[..., num])\n",
    "    else: \n",
    "        line0.set_data([],[])\n",
    "    if (num<len(data1[0])):\n",
    "        line1.set_data(data1[..., num])\n",
    "    else: \n",
    "        line1.set_data([],[])\n",
    "    if (num<len(data2[0])):\n",
    "        line2.set_data(data2[..., num])\n",
    "    else: \n",
    "        line2.set_data([],[])\n",
    "    if (num<len(data3[0])):\n",
    "        line3.set_data(data3[..., num])\n",
    "    else: \n",
    "        line3.set_data([],[])\n",
    "    if (num<len(data4[0])):\n",
    "        line4.set_data(data4[..., num])\n",
    "    else: \n",
    "        line4.set_data([],[])\n",
    "    if (num<len(data5[0])):\n",
    "        line5.set_data(data5[..., num])\n",
    "    else: \n",
    "        line5.set_data([],[])\n",
    "    if (num<len(data6[0])):\n",
    "        line6.set_data(data6[..., num])\n",
    "    else: \n",
    "        line6.set_data([],[])\n",
    "    if (num<len(data7[0])):\n",
    "        line7.set_data(data7[..., num])\n",
    "    else: \n",
    "        line7.set_data([],[])\n",
    "    if (num<len(data8[0])):\n",
    "        line8.set_data(data8[..., num])\n",
    "    else: \n",
    "        line8.set_data([],[])\n",
    "    if (num<len(data9[0])):\n",
    "        line9.set_data(data9[..., num])\n",
    "    else: \n",
    "        line9.set_data([],[])\n",
    "    return line0,line1,line2,line3,line4,line5,line6,line7,line8,line9"
   ]
  },
  {
   "cell_type": "code",
   "execution_count": 5,
   "metadata": {},
   "outputs": [
    {
     "ename": "ValueError",
     "evalue": "I/O operation on closed file",
     "output_type": "error",
     "traceback": [
      "\u001b[0;31m---------------------------------------------------------------------------\u001b[0m",
      "\u001b[0;31mValueError\u001b[0m                                Traceback (most recent call last)",
      "\u001b[0;32m<ipython-input-5-2cda19db8c36>\u001b[0m in \u001b[0;36m<module>\u001b[0;34m()\u001b[0m\n\u001b[1;32m     27\u001b[0m \u001b[0;31m#interval= how long each timestep should last\u001b[0m\u001b[0;34m\u001b[0m\u001b[0;34m\u001b[0m\u001b[0m\n\u001b[1;32m     28\u001b[0m \u001b[0;34m\u001b[0m\u001b[0m\n\u001b[0;32m---> 29\u001b[0;31m \u001b[0mline_ani\u001b[0m\u001b[0;34m.\u001b[0m\u001b[0msave\u001b[0m\u001b[0;34m(\u001b[0m\u001b[0;34m'blackhole_animation_Final_1.mp4'\u001b[0m\u001b[0;34m)\u001b[0m\u001b[0;34m\u001b[0m\u001b[0m\n\u001b[0m",
      "\u001b[0;32m/Users/aribakhan/anaconda/lib/python2.7/site-packages/matplotlib/animation.pyc\u001b[0m in \u001b[0;36msave\u001b[0;34m(self, filename, writer, fps, dpi, codec, bitrate, extra_args, metadata, extra_anim, savefig_kwargs)\u001b[0m\n\u001b[1;32m   1061\u001b[0m                         \u001b[0;31m# TODO: See if turning off blit is really necessary\u001b[0m\u001b[0;34m\u001b[0m\u001b[0;34m\u001b[0m\u001b[0m\n\u001b[1;32m   1062\u001b[0m                         \u001b[0manim\u001b[0m\u001b[0;34m.\u001b[0m\u001b[0m_draw_next_frame\u001b[0m\u001b[0;34m(\u001b[0m\u001b[0md\u001b[0m\u001b[0;34m,\u001b[0m \u001b[0mblit\u001b[0m\u001b[0;34m=\u001b[0m\u001b[0mFalse\u001b[0m\u001b[0;34m)\u001b[0m\u001b[0;34m\u001b[0m\u001b[0m\n\u001b[0;32m-> 1063\u001b[0;31m                     \u001b[0mwriter\u001b[0m\u001b[0;34m.\u001b[0m\u001b[0mgrab_frame\u001b[0m\u001b[0;34m(\u001b[0m\u001b[0;34m**\u001b[0m\u001b[0msavefig_kwargs\u001b[0m\u001b[0;34m)\u001b[0m\u001b[0;34m\u001b[0m\u001b[0m\n\u001b[0m\u001b[1;32m   1064\u001b[0m \u001b[0;34m\u001b[0m\u001b[0m\n\u001b[1;32m   1065\u001b[0m         \u001b[0;31m# Reconnect signal for first draw if necessary\u001b[0m\u001b[0;34m\u001b[0m\u001b[0;34m\u001b[0m\u001b[0m\n",
      "\u001b[0;32m/Users/aribakhan/anaconda/lib/python2.7/contextlib.pyc\u001b[0m in \u001b[0;36m__exit__\u001b[0;34m(self, type, value, traceback)\u001b[0m\n\u001b[1;32m     33\u001b[0m                 \u001b[0mvalue\u001b[0m \u001b[0;34m=\u001b[0m \u001b[0mtype\u001b[0m\u001b[0;34m(\u001b[0m\u001b[0;34m)\u001b[0m\u001b[0;34m\u001b[0m\u001b[0m\n\u001b[1;32m     34\u001b[0m             \u001b[0;32mtry\u001b[0m\u001b[0;34m:\u001b[0m\u001b[0;34m\u001b[0m\u001b[0m\n\u001b[0;32m---> 35\u001b[0;31m                 \u001b[0mself\u001b[0m\u001b[0;34m.\u001b[0m\u001b[0mgen\u001b[0m\u001b[0;34m.\u001b[0m\u001b[0mthrow\u001b[0m\u001b[0;34m(\u001b[0m\u001b[0mtype\u001b[0m\u001b[0;34m,\u001b[0m \u001b[0mvalue\u001b[0m\u001b[0;34m,\u001b[0m \u001b[0mtraceback\u001b[0m\u001b[0;34m)\u001b[0m\u001b[0;34m\u001b[0m\u001b[0m\n\u001b[0m\u001b[1;32m     36\u001b[0m                 \u001b[0;32mraise\u001b[0m \u001b[0mRuntimeError\u001b[0m\u001b[0;34m(\u001b[0m\u001b[0;34m\"generator didn't stop after throw()\"\u001b[0m\u001b[0;34m)\u001b[0m\u001b[0;34m\u001b[0m\u001b[0m\n\u001b[1;32m     37\u001b[0m             \u001b[0;32mexcept\u001b[0m \u001b[0mStopIteration\u001b[0m\u001b[0;34m,\u001b[0m \u001b[0mexc\u001b[0m\u001b[0;34m:\u001b[0m\u001b[0;34m\u001b[0m\u001b[0m\n",
      "\u001b[0;32m/Users/aribakhan/anaconda/lib/python2.7/site-packages/matplotlib/animation.pyc\u001b[0m in \u001b[0;36msaving\u001b[0;34m(self, *args, **kw)\u001b[0m\n\u001b[1;32m    287\u001b[0m             \u001b[0;32myield\u001b[0m \u001b[0mself\u001b[0m\u001b[0;34m\u001b[0m\u001b[0m\n\u001b[1;32m    288\u001b[0m         \u001b[0;32mfinally\u001b[0m\u001b[0;34m:\u001b[0m\u001b[0;34m\u001b[0m\u001b[0m\n\u001b[0;32m--> 289\u001b[0;31m             \u001b[0mself\u001b[0m\u001b[0;34m.\u001b[0m\u001b[0mfinish\u001b[0m\u001b[0;34m(\u001b[0m\u001b[0;34m)\u001b[0m\u001b[0;34m\u001b[0m\u001b[0m\n\u001b[0m\u001b[1;32m    290\u001b[0m \u001b[0;34m\u001b[0m\u001b[0m\n\u001b[1;32m    291\u001b[0m     \u001b[0;32mdef\u001b[0m \u001b[0m_run\u001b[0m\u001b[0;34m(\u001b[0m\u001b[0mself\u001b[0m\u001b[0;34m)\u001b[0m\u001b[0;34m:\u001b[0m\u001b[0;34m\u001b[0m\u001b[0m\n",
      "\u001b[0;32m/Users/aribakhan/anaconda/lib/python2.7/site-packages/matplotlib/animation.pyc\u001b[0m in \u001b[0;36mfinish\u001b[0;34m(self)\u001b[0m\n\u001b[1;32m    307\u001b[0m     \u001b[0;32mdef\u001b[0m \u001b[0mfinish\u001b[0m\u001b[0;34m(\u001b[0m\u001b[0mself\u001b[0m\u001b[0;34m)\u001b[0m\u001b[0;34m:\u001b[0m\u001b[0;34m\u001b[0m\u001b[0m\n\u001b[1;32m    308\u001b[0m         \u001b[0;34m'Finish any processing for writing the movie.'\u001b[0m\u001b[0;34m\u001b[0m\u001b[0m\n\u001b[0;32m--> 309\u001b[0;31m         \u001b[0mself\u001b[0m\u001b[0;34m.\u001b[0m\u001b[0mcleanup\u001b[0m\u001b[0;34m(\u001b[0m\u001b[0;34m)\u001b[0m\u001b[0;34m\u001b[0m\u001b[0m\n\u001b[0m\u001b[1;32m    310\u001b[0m \u001b[0;34m\u001b[0m\u001b[0m\n\u001b[1;32m    311\u001b[0m     \u001b[0;32mdef\u001b[0m \u001b[0mgrab_frame\u001b[0m\u001b[0;34m(\u001b[0m\u001b[0mself\u001b[0m\u001b[0;34m,\u001b[0m \u001b[0;34m**\u001b[0m\u001b[0msavefig_kwargs\u001b[0m\u001b[0;34m)\u001b[0m\u001b[0;34m:\u001b[0m\u001b[0;34m\u001b[0m\u001b[0m\n",
      "\u001b[0;32m/Users/aribakhan/anaconda/lib/python2.7/site-packages/matplotlib/animation.pyc\u001b[0m in \u001b[0;36mcleanup\u001b[0;34m(self)\u001b[0m\n\u001b[1;32m    346\u001b[0m     \u001b[0;32mdef\u001b[0m \u001b[0mcleanup\u001b[0m\u001b[0;34m(\u001b[0m\u001b[0mself\u001b[0m\u001b[0;34m)\u001b[0m\u001b[0;34m:\u001b[0m\u001b[0;34m\u001b[0m\u001b[0m\n\u001b[1;32m    347\u001b[0m         \u001b[0;34m'Clean-up and collect the process used to write the movie file.'\u001b[0m\u001b[0;34m\u001b[0m\u001b[0m\n\u001b[0;32m--> 348\u001b[0;31m         \u001b[0mout\u001b[0m\u001b[0;34m,\u001b[0m \u001b[0merr\u001b[0m \u001b[0;34m=\u001b[0m \u001b[0mself\u001b[0m\u001b[0;34m.\u001b[0m\u001b[0m_proc\u001b[0m\u001b[0;34m.\u001b[0m\u001b[0mcommunicate\u001b[0m\u001b[0;34m(\u001b[0m\u001b[0;34m)\u001b[0m\u001b[0;34m\u001b[0m\u001b[0m\n\u001b[0m\u001b[1;32m    349\u001b[0m         \u001b[0mself\u001b[0m\u001b[0;34m.\u001b[0m\u001b[0m_frame_sink\u001b[0m\u001b[0;34m(\u001b[0m\u001b[0;34m)\u001b[0m\u001b[0;34m.\u001b[0m\u001b[0mclose\u001b[0m\u001b[0;34m(\u001b[0m\u001b[0;34m)\u001b[0m\u001b[0;34m\u001b[0m\u001b[0m\n\u001b[1;32m    350\u001b[0m         verbose.report('MovieWriter -- '\n",
      "\u001b[0;32m/Users/aribakhan/anaconda/lib/python2.7/site-packages/subprocess32.pyc\u001b[0m in \u001b[0;36mcommunicate\u001b[0;34m(self, input, timeout)\u001b[0m\n\u001b[1;32m    925\u001b[0m \u001b[0;34m\u001b[0m\u001b[0m\n\u001b[1;32m    926\u001b[0m         \u001b[0;32mtry\u001b[0m\u001b[0;34m:\u001b[0m\u001b[0;34m\u001b[0m\u001b[0m\n\u001b[0;32m--> 927\u001b[0;31m             \u001b[0mstdout\u001b[0m\u001b[0;34m,\u001b[0m \u001b[0mstderr\u001b[0m \u001b[0;34m=\u001b[0m \u001b[0mself\u001b[0m\u001b[0;34m.\u001b[0m\u001b[0m_communicate\u001b[0m\u001b[0;34m(\u001b[0m\u001b[0minput\u001b[0m\u001b[0;34m,\u001b[0m \u001b[0mendtime\u001b[0m\u001b[0;34m,\u001b[0m \u001b[0mtimeout\u001b[0m\u001b[0;34m)\u001b[0m\u001b[0;34m\u001b[0m\u001b[0m\n\u001b[0m\u001b[1;32m    928\u001b[0m         \u001b[0;32mfinally\u001b[0m\u001b[0;34m:\u001b[0m\u001b[0;34m\u001b[0m\u001b[0m\n\u001b[1;32m    929\u001b[0m             \u001b[0mself\u001b[0m\u001b[0;34m.\u001b[0m\u001b[0m_communication_started\u001b[0m \u001b[0;34m=\u001b[0m \u001b[0mTrue\u001b[0m\u001b[0;34m\u001b[0m\u001b[0m\n",
      "\u001b[0;32m/Users/aribakhan/anaconda/lib/python2.7/site-packages/subprocess32.pyc\u001b[0m in \u001b[0;36m_communicate\u001b[0;34m(self, input, endtime, orig_timeout)\u001b[0m\n\u001b[1;32m   1711\u001b[0m             \u001b[0;32mif\u001b[0m \u001b[0m_has_poll\u001b[0m\u001b[0;34m:\u001b[0m\u001b[0;34m\u001b[0m\u001b[0m\n\u001b[1;32m   1712\u001b[0m                 stdout, stderr = self._communicate_with_poll(input, endtime,\n\u001b[0;32m-> 1713\u001b[0;31m                                                              orig_timeout)\n\u001b[0m\u001b[1;32m   1714\u001b[0m             \u001b[0;32melse\u001b[0m\u001b[0;34m:\u001b[0m\u001b[0;34m\u001b[0m\u001b[0m\n\u001b[1;32m   1715\u001b[0m                 stdout, stderr = self._communicate_with_select(input, endtime,\n",
      "\u001b[0;32m/Users/aribakhan/anaconda/lib/python2.7/site-packages/subprocess32.pyc\u001b[0m in \u001b[0;36m_communicate_with_poll\u001b[0;34m(self, input, endtime, orig_timeout)\u001b[0m\n\u001b[1;32m   1767\u001b[0m             \u001b[0mselect_POLLIN_POLLPRI\u001b[0m \u001b[0;34m=\u001b[0m \u001b[0mselect\u001b[0m\u001b[0;34m.\u001b[0m\u001b[0mPOLLIN\u001b[0m \u001b[0;34m|\u001b[0m \u001b[0mselect\u001b[0m\u001b[0;34m.\u001b[0m\u001b[0mPOLLPRI\u001b[0m\u001b[0;34m\u001b[0m\u001b[0m\n\u001b[1;32m   1768\u001b[0m             \u001b[0;32mif\u001b[0m \u001b[0mself\u001b[0m\u001b[0;34m.\u001b[0m\u001b[0mstdout\u001b[0m\u001b[0;34m:\u001b[0m\u001b[0;34m\u001b[0m\u001b[0m\n\u001b[0;32m-> 1769\u001b[0;31m                 \u001b[0mregister_and_append\u001b[0m\u001b[0;34m(\u001b[0m\u001b[0mself\u001b[0m\u001b[0;34m.\u001b[0m\u001b[0mstdout\u001b[0m\u001b[0;34m,\u001b[0m \u001b[0mselect_POLLIN_POLLPRI\u001b[0m\u001b[0;34m)\u001b[0m\u001b[0;34m\u001b[0m\u001b[0m\n\u001b[0m\u001b[1;32m   1770\u001b[0m                 \u001b[0mstdout\u001b[0m \u001b[0;34m=\u001b[0m \u001b[0mself\u001b[0m\u001b[0;34m.\u001b[0m\u001b[0m_fd2output\u001b[0m\u001b[0;34m[\u001b[0m\u001b[0mself\u001b[0m\u001b[0;34m.\u001b[0m\u001b[0mstdout\u001b[0m\u001b[0;34m.\u001b[0m\u001b[0mfileno\u001b[0m\u001b[0;34m(\u001b[0m\u001b[0;34m)\u001b[0m\u001b[0;34m]\u001b[0m\u001b[0;34m\u001b[0m\u001b[0m\n\u001b[1;32m   1771\u001b[0m             \u001b[0;32mif\u001b[0m \u001b[0mself\u001b[0m\u001b[0;34m.\u001b[0m\u001b[0mstderr\u001b[0m\u001b[0;34m:\u001b[0m\u001b[0;34m\u001b[0m\u001b[0m\n",
      "\u001b[0;32m/Users/aribakhan/anaconda/lib/python2.7/site-packages/subprocess32.pyc\u001b[0m in \u001b[0;36mregister_and_append\u001b[0;34m(file_obj, eventmask)\u001b[0m\n\u001b[1;32m   1746\u001b[0m             \u001b[0mpoller\u001b[0m \u001b[0;34m=\u001b[0m \u001b[0mselect\u001b[0m\u001b[0;34m.\u001b[0m\u001b[0mpoll\u001b[0m\u001b[0;34m(\u001b[0m\u001b[0;34m)\u001b[0m\u001b[0;34m\u001b[0m\u001b[0m\n\u001b[1;32m   1747\u001b[0m             \u001b[0;32mdef\u001b[0m \u001b[0mregister_and_append\u001b[0m\u001b[0;34m(\u001b[0m\u001b[0mfile_obj\u001b[0m\u001b[0;34m,\u001b[0m \u001b[0meventmask\u001b[0m\u001b[0;34m)\u001b[0m\u001b[0;34m:\u001b[0m\u001b[0;34m\u001b[0m\u001b[0m\n\u001b[0;32m-> 1748\u001b[0;31m                 \u001b[0mpoller\u001b[0m\u001b[0;34m.\u001b[0m\u001b[0mregister\u001b[0m\u001b[0;34m(\u001b[0m\u001b[0mfile_obj\u001b[0m\u001b[0;34m.\u001b[0m\u001b[0mfileno\u001b[0m\u001b[0;34m(\u001b[0m\u001b[0;34m)\u001b[0m\u001b[0;34m,\u001b[0m \u001b[0meventmask\u001b[0m\u001b[0;34m)\u001b[0m\u001b[0;34m\u001b[0m\u001b[0m\n\u001b[0m\u001b[1;32m   1749\u001b[0m                 \u001b[0mself\u001b[0m\u001b[0;34m.\u001b[0m\u001b[0m_fd2file\u001b[0m\u001b[0;34m[\u001b[0m\u001b[0mfile_obj\u001b[0m\u001b[0;34m.\u001b[0m\u001b[0mfileno\u001b[0m\u001b[0;34m(\u001b[0m\u001b[0;34m)\u001b[0m\u001b[0;34m]\u001b[0m \u001b[0;34m=\u001b[0m \u001b[0mfile_obj\u001b[0m\u001b[0;34m\u001b[0m\u001b[0m\n\u001b[1;32m   1750\u001b[0m \u001b[0;34m\u001b[0m\u001b[0m\n",
      "\u001b[0;31mValueError\u001b[0m: I/O operation on closed file"
     ]
    },
    {
     "data": {
      "image/png": "[encoded data removed]",
      "text/plain": [
       "<matplotlib.figure.Figure at 0x104558a50>"
      ]
     },
     "metadata": {
      "needs_background": "light"
     },
     "output_type": "display_data"
    }
   ],
   "source": [
    "fig1 = plt.figure()\n",
    "colors = [(1, 0, 0), (1, 0.749, 0), (1, 1, 0), (0.749, 1, 0), (0, 1, 0), (0, 1, 1), (0, 0, 1),(0.749, 0, 1), (1, 0, 0.749),(0.525, 0.475, 0.475)]\n",
    "colors = np.array(colors)\n",
    "\n",
    "l_0, = plt.plot([], [], '.',ms=30,c=colors[0])#set up what the plot will initial look like\n",
    "l_1, = plt.plot([], [], '.',ms=30,c=colors[1])#can also give commands on formatting your points\n",
    "l_2, = plt.plot([], [], '.',ms=30,c=colors[2])\n",
    "l_3, = plt.plot([], [], '.',ms=30,c=colors[3])\n",
    "l_4, = plt.plot([], [], '.',ms=30,c=colors[4])\n",
    "l_5, = plt.plot([], [], '.',ms=30,c=colors[5])\n",
    "l_6, = plt.plot([], [], '.',ms=30,c=colors[6])\n",
    "l_7, = plt.plot([], [], '.',ms=30,c=colors[7])\n",
    "l_8, = plt.plot([], [], '.',ms=30,c=colors[8])\n",
    "l_9, = plt.plot([], [], '.',ms=30,c=colors[9])\n",
    "sMblackhole = plt.plot(0,0,'.', c = 'k', ms = 40)\n",
    "plt.xlim(-1000, 1000)\n",
    "plt.ylim(-1000, 1000)\n",
    "plt.xlabel('X Position (AU)')\n",
    "plt.ylabel('Y Position (AU)')\n",
    "plt.title('Positions of $40M_{\\odot}$ Blackholes around Super Massive Blackhole')\n",
    "line_ani = animation.FuncAnimation(fig1, update_line, 1000, fargs=(data0,data1,data2,data3,data4,data5,data6,data7,data8,data9,l_0,l_1,l_2,l_3,l_4,l_5,l_6,l_7,l_8,l_9),interval=200, blit=True)\n",
    "#call the animation function and tell it:\n",
    "#the name of the figure \n",
    "#the name of the method that updates the figure\n",
    "#how many times you want to update the figure (how many timesteps!)\n",
    "#fargs= any other arguments that the update_line method needs\n",
    "#interval= how long each timestep should last\n",
    "\n",
    "line_ani.save('blackhole_animation_Final_1.mp4')\n"
   ]
  },
  {
   "cell_type": "code",
   "execution_count": null,
   "metadata": {
    "collapsed": true
   },
   "outputs": [],
   "source": []
  }
 ],
 "metadata": {
  "kernelspec": {
   "display_name": "Python 2",
   "language": "python",
   "name": "python2"
  },
  "language_info": {
   "codemirror_mode": {
    "name": "ipython",
    "version": 2
   },
   "file_extension": ".py",
   "mimetype": "text/x-python",
   "name": "python",
   "nbconvert_exporter": "python",
   "pygments_lexer": "ipython2",
   "version": "2.7.6"
  }
 },
 "nbformat": 4,
 "nbformat_minor": 2
}
